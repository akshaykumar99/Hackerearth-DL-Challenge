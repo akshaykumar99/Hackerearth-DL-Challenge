{
 "cells": [
  {
   "cell_type": "code",
   "execution_count": null,
   "metadata": {
    "colab": {
     "base_uri": "https://localhost:8080/"
    },
    "executionInfo": {
     "elapsed": 28579,
     "status": "ok",
     "timestamp": 1612699590714,
     "user": {
      "displayName": "Akshay Kumar",
      "photoUrl": "https://lh3.googleusercontent.com/a-/AOh14Gjh2A-fwHDdUGkRUNEORkNYYCWKa-6rFJz8LrmbGQ=s64",
      "userId": "16196635865337803652"
     },
     "user_tz": -330
    },
    "id": "DdActfoPbc9s",
    "outputId": "1c272e79-f469-4639-fdd0-ab9d71337303"
   },
   "outputs": [
    {
     "name": "stdout",
     "output_type": "stream",
     "text": [
      "Mounted at /content/drive\n"
     ]
    }
   ],
   "source": [
    "from google.colab import drive\n",
    "drive.mount('/content/drive')"
   ]
  },
  {
   "cell_type": "code",
   "execution_count": null,
   "metadata": {
    "id": "8OBshLtjb74Q"
   },
   "outputs": [],
   "source": [
    "import os\n",
    "os.chdir('/content/drive/My Drive/Colab Notebooks/Hackerearth Challenges/Deeplearning 1')"
   ]
  },
  {
   "cell_type": "code",
   "execution_count": null,
   "metadata": {
    "colab": {
     "base_uri": "https://localhost:8080/",
     "height": 35
    },
    "executionInfo": {
     "elapsed": 1840,
     "status": "ok",
     "timestamp": 1612702923086,
     "user": {
      "displayName": "Akshay Kumar",
      "photoUrl": "https://lh3.googleusercontent.com/a-/AOh14Gjh2A-fwHDdUGkRUNEORkNYYCWKa-6rFJz8LrmbGQ=s64",
      "userId": "16196635865337803652"
     },
     "user_tz": -330
    },
    "id": "D_gEeA4Pe8vJ",
    "outputId": "079597f1-e591-4f68-d2ca-70284af6df99"
   },
   "outputs": [
    {
     "data": {
      "application/vnd.google.colaboratory.intrinsic+json": {
       "type": "string"
      },
      "text/plain": [
       "'/content/drive/My Drive/Colab Notebooks/Hackerearth Challenges/Deeplearning 1'"
      ]
     },
     "execution_count": 4,
     "metadata": {
      "tags": []
     },
     "output_type": "execute_result"
    }
   ],
   "source": [
    "pwd"
   ]
  },
  {
   "cell_type": "code",
   "execution_count": null,
   "metadata": {
    "id": "3ovykQTZariA"
   },
   "outputs": [],
   "source": [
    "import pandas as pd\n",
    "from keras.preprocessing import image\n",
    "import matplotlib.pyplot as plt"
   ]
  },
  {
   "cell_type": "code",
   "execution_count": null,
   "metadata": {
    "id": "Fz6ZUyu1ariG"
   },
   "outputs": [],
   "source": [
    "import os\n",
    "import numpy as np"
   ]
  },
  {
   "cell_type": "code",
   "execution_count": null,
   "metadata": {
    "id": "kFezmL6we9kb"
   },
   "outputs": [],
   "source": [
    "# !wget -O data t.ly/Wh06"
   ]
  },
  {
   "cell_type": "code",
   "execution_count": null,
   "metadata": {
    "id": "gBDWTrPWfPWW"
   },
   "outputs": [],
   "source": [
    "# !unzip data"
   ]
  },
  {
   "cell_type": "code",
   "execution_count": null,
   "metadata": {
    "colab": {
     "base_uri": "https://localhost:8080/",
     "height": 195
    },
    "executionInfo": {
     "elapsed": 934,
     "status": "ok",
     "timestamp": 1612702945473,
     "user": {
      "displayName": "Akshay Kumar",
      "photoUrl": "https://lh3.googleusercontent.com/a-/AOh14Gjh2A-fwHDdUGkRUNEORkNYYCWKa-6rFJz8LrmbGQ=s64",
      "userId": "16196635865337803652"
     },
     "user_tz": -330
    },
    "id": "_CTSmOGOariD",
    "outputId": "45a0cecc-d9da-47ae-9589-462c210c8031"
   },
   "outputs": [
    {
     "data": {
      "text/html": [
       "<div>\n",
       "<style scoped>\n",
       "    .dataframe tbody tr th:only-of-type {\n",
       "        vertical-align: middle;\n",
       "    }\n",
       "\n",
       "    .dataframe tbody tr th {\n",
       "        vertical-align: top;\n",
       "    }\n",
       "\n",
       "    .dataframe thead th {\n",
       "        text-align: right;\n",
       "    }\n",
       "</style>\n",
       "<table border=\"1\" class=\"dataframe\">\n",
       "  <thead>\n",
       "    <tr style=\"text-align: right;\">\n",
       "      <th></th>\n",
       "      <th>Image</th>\n",
       "      <th>Class</th>\n",
       "    </tr>\n",
       "  </thead>\n",
       "  <tbody>\n",
       "    <tr>\n",
       "      <th>0</th>\n",
       "      <td>image3476.jpg</td>\n",
       "      <td>Miscellaneous</td>\n",
       "    </tr>\n",
       "    <tr>\n",
       "      <th>1</th>\n",
       "      <td>image5198.jpg</td>\n",
       "      <td>Candle</td>\n",
       "    </tr>\n",
       "    <tr>\n",
       "      <th>2</th>\n",
       "      <td>image4183.jpg</td>\n",
       "      <td>Snowman</td>\n",
       "    </tr>\n",
       "    <tr>\n",
       "      <th>3</th>\n",
       "      <td>image1806.jpg</td>\n",
       "      <td>Miscellaneous</td>\n",
       "    </tr>\n",
       "    <tr>\n",
       "      <th>4</th>\n",
       "      <td>image7831.jpg</td>\n",
       "      <td>Miscellaneous</td>\n",
       "    </tr>\n",
       "  </tbody>\n",
       "</table>\n",
       "</div>"
      ],
      "text/plain": [
       "           Image          Class\n",
       "0  image3476.jpg  Miscellaneous\n",
       "1  image5198.jpg         Candle\n",
       "2  image4183.jpg        Snowman\n",
       "3  image1806.jpg  Miscellaneous\n",
       "4  image7831.jpg  Miscellaneous"
      ]
     },
     "execution_count": 9,
     "metadata": {
      "tags": []
     },
     "output_type": "execute_result"
    }
   ],
   "source": [
    "df = pd.read_csv('./dataset/train.csv')\n",
    "df.head()"
   ]
  },
  {
   "cell_type": "code",
   "execution_count": null,
   "metadata": {
    "colab": {
     "base_uri": "https://localhost:8080/"
    },
    "executionInfo": {
     "elapsed": 875,
     "status": "ok",
     "timestamp": 1612702948434,
     "user": {
      "displayName": "Akshay Kumar",
      "photoUrl": "https://lh3.googleusercontent.com/a-/AOh14Gjh2A-fwHDdUGkRUNEORkNYYCWKa-6rFJz8LrmbGQ=s64",
      "userId": "16196635865337803652"
     },
     "user_tz": -330
    },
    "id": "bNPPs9rLariF",
    "outputId": "f8b2bd2b-b284-42c9-a08f-9b57a9420a60"
   },
   "outputs": [
    {
     "data": {
      "text/plain": [
       "Miscellaneous     2801\n",
       "Christmas_Tree    1539\n",
       "Jacket             640\n",
       "Candle             593\n",
       "Airplane           535\n",
       "Snowman            361\n",
       "Name: Class, dtype: int64"
      ]
     },
     "execution_count": 10,
     "metadata": {
      "tags": []
     },
     "output_type": "execute_result"
    }
   ],
   "source": [
    "df['Class'].value_counts()"
   ]
  },
  {
   "cell_type": "code",
   "execution_count": null,
   "metadata": {
    "id": "Vy9OmbYbariF"
   },
   "outputs": [],
   "source": [
    "mapp = {}\n",
    "rev_mapp = {}\n",
    "curr = 0\n",
    "for label in df['Class'].unique():\n",
    "    mapp[label] = curr\n",
    "    rev_mapp[curr] = label\n",
    "    curr += 1"
   ]
  },
  {
   "cell_type": "code",
   "execution_count": null,
   "metadata": {
    "id": "KrfuFCTRariG"
   },
   "outputs": [],
   "source": [
    "temp_data = {}\n",
    "for index, row in df.iterrows():\n",
    "    temp_data[row['Image']] = row['Class']"
   ]
  },
  {
   "cell_type": "code",
   "execution_count": null,
   "metadata": {
    "id": "jYxP0n4iariG"
   },
   "outputs": [],
   "source": [
    "# temp_data"
   ]
  },
  {
   "cell_type": "code",
   "execution_count": null,
   "metadata": {
    "colab": {
     "base_uri": "https://localhost:8080/"
    },
    "executionInfo": {
     "elapsed": 925,
     "status": "ok",
     "timestamp": 1612702956560,
     "user": {
      "displayName": "Akshay Kumar",
      "photoUrl": "https://lh3.googleusercontent.com/a-/AOh14Gjh2A-fwHDdUGkRUNEORkNYYCWKa-6rFJz8LrmbGQ=s64",
      "userId": "16196635865337803652"
     },
     "user_tz": -330
    },
    "id": "HUFRIEDfariH",
    "outputId": "afb90797-f32f-4d4e-8f18-0defd99ba560"
   },
   "outputs": [
    {
     "data": {
      "text/plain": [
       "['weights.h5',\n",
       " 'data',\n",
       " 'BasicCNN.ipynb',\n",
       " 'Transfer learning.ipynb',\n",
       " 'dataset',\n",
       " 'out.csv']"
      ]
     },
     "execution_count": 14,
     "metadata": {
      "tags": []
     },
     "output_type": "execute_result"
    }
   ],
   "source": [
    "os.listdir()"
   ]
  },
  {
   "cell_type": "markdown",
   "metadata": {
    "id": "Vsk1k4ohariH"
   },
   "source": [
    "## Training set"
   ]
  },
  {
   "cell_type": "code",
   "execution_count": null,
   "metadata": {
    "id": "d7I_RDtnZpxA"
   },
   "outputs": [],
   "source": [
    "ih = 150\n",
    "iw = 130"
   ]
  },
  {
   "cell_type": "code",
   "execution_count": null,
   "metadata": {
    "id": "EE315oyMariI"
   },
   "outputs": [],
   "source": [
    "path = './dataset/train'\n",
    "X_train = []\n",
    "y_train = []"
   ]
  },
  {
   "cell_type": "code",
   "execution_count": null,
   "metadata": {
    "colab": {
     "base_uri": "https://localhost:8080/"
    },
    "executionInfo": {
     "elapsed": 8392,
     "status": "ok",
     "timestamp": 1612703558979,
     "user": {
      "displayName": "Akshay Kumar",
      "photoUrl": "https://lh3.googleusercontent.com/a-/AOh14Gjh2A-fwHDdUGkRUNEORkNYYCWKa-6rFJz8LrmbGQ=s64",
      "userId": "16196635865337803652"
     },
     "user_tz": -330
    },
    "id": "1rRmvny_ariI",
    "outputId": "84180dbf-ecc6-4e74-a525-02ca4857eae1"
   },
   "outputs": [
    {
     "name": "stderr",
     "output_type": "stream",
     "text": [
      "100%|██████████| 6469/6469 [00:07<00:00, 836.44it/s]\n"
     ]
    }
   ],
   "source": [
    "from tqdm import tqdm\n",
    "for file in tqdm(os.listdir(path)):\n",
    "    img = image.load_img(os.path.join(path, file), target_size = (ih,iw))\n",
    "    x = image.img_to_array(img)\n",
    "    X_train.append(x)\n",
    "    y_train.append(mapp[temp_data[file]])"
   ]
  },
  {
   "cell_type": "code",
   "execution_count": null,
   "metadata": {
    "id": "DADpYbVoariJ"
   },
   "outputs": [],
   "source": [
    "X_train = np.stack(X_train)\n",
    "y_train = np.stack(y_train)"
   ]
  },
  {
   "cell_type": "code",
   "execution_count": null,
   "metadata": {
    "colab": {
     "base_uri": "https://localhost:8080/"
    },
    "executionInfo": {
     "elapsed": 1457,
     "status": "ok",
     "timestamp": 1612703563327,
     "user": {
      "displayName": "Akshay Kumar",
      "photoUrl": "https://lh3.googleusercontent.com/a-/AOh14Gjh2A-fwHDdUGkRUNEORkNYYCWKa-6rFJz8LrmbGQ=s64",
      "userId": "16196635865337803652"
     },
     "user_tz": -330
    },
    "id": "y0No_qTKariJ",
    "outputId": "27f8236a-5efe-48fb-e803-acdf7f89ec9c"
   },
   "outputs": [
    {
     "name": "stdout",
     "output_type": "stream",
     "text": [
      "(6469, 150, 130, 3) (6469,)\n"
     ]
    }
   ],
   "source": [
    "print(X_train.shape, y_train.shape)"
   ]
  },
  {
   "cell_type": "code",
   "execution_count": null,
   "metadata": {
    "id": "mx8GgPiTi0OT"
   },
   "outputs": [],
   "source": [
    "from sklearn.model_selection import train_test_split\n",
    "XX_train, XX_test, yy_train, yy_test = train_test_split(X_train, y_train, test_size = 0.05)"
   ]
  },
  {
   "cell_type": "code",
   "execution_count": null,
   "metadata": {
    "colab": {
     "base_uri": "https://localhost:8080/"
    },
    "executionInfo": {
     "elapsed": 854,
     "status": "ok",
     "timestamp": 1612703565224,
     "user": {
      "displayName": "Akshay Kumar",
      "photoUrl": "https://lh3.googleusercontent.com/a-/AOh14Gjh2A-fwHDdUGkRUNEORkNYYCWKa-6rFJz8LrmbGQ=s64",
      "userId": "16196635865337803652"
     },
     "user_tz": -330
    },
    "id": "demoCth1k9ms",
    "outputId": "ea6f52d2-cfb5-4553-e60c-a23f2f4982aa"
   },
   "outputs": [
    {
     "name": "stdout",
     "output_type": "stream",
     "text": [
      "(6145, 150, 130, 3) (324, 150, 130, 3)\n"
     ]
    }
   ],
   "source": [
    "print(XX_train.shape, XX_test.shape)"
   ]
  },
  {
   "cell_type": "code",
   "execution_count": null,
   "metadata": {
    "id": "jP6Zg-lSariL"
   },
   "outputs": [],
   "source": [
    "path = './dataset/test'\n",
    "test_X = []\n",
    "file_name = []"
   ]
  },
  {
   "cell_type": "code",
   "execution_count": null,
   "metadata": {
    "colab": {
     "base_uri": "https://localhost:8080/"
    },
    "executionInfo": {
     "elapsed": 4832,
     "status": "ok",
     "timestamp": 1612703573302,
     "user": {
      "displayName": "Akshay Kumar",
      "photoUrl": "https://lh3.googleusercontent.com/a-/AOh14Gjh2A-fwHDdUGkRUNEORkNYYCWKa-6rFJz8LrmbGQ=s64",
      "userId": "16196635865337803652"
     },
     "user_tz": -330
    },
    "id": "6NiY8YhrariM",
    "outputId": "bca30c5d-b0d1-4621-d746-fdc198a1597f"
   },
   "outputs": [
    {
     "name": "stderr",
     "output_type": "stream",
     "text": [
      "100%|██████████| 3489/3489 [00:04<00:00, 841.90it/s]\n"
     ]
    }
   ],
   "source": [
    "for file in tqdm(os.listdir(path)):\n",
    "    file_name.append(file)\n",
    "    img = image.load_img(os.path.join(path, file), target_size = (ih, iw))\n",
    "    x = image.img_to_array(img)\n",
    "    test_X.append(x)"
   ]
  },
  {
   "cell_type": "code",
   "execution_count": null,
   "metadata": {
    "id": "-SNMPWbtariM"
   },
   "outputs": [],
   "source": [
    "test_X = np.stack(test_X)"
   ]
  },
  {
   "cell_type": "code",
   "execution_count": null,
   "metadata": {
    "colab": {
     "base_uri": "https://localhost:8080/"
    },
    "executionInfo": {
     "elapsed": 1180,
     "status": "ok",
     "timestamp": 1612703575193,
     "user": {
      "displayName": "Akshay Kumar",
      "photoUrl": "https://lh3.googleusercontent.com/a-/AOh14Gjh2A-fwHDdUGkRUNEORkNYYCWKa-6rFJz8LrmbGQ=s64",
      "userId": "16196635865337803652"
     },
     "user_tz": -330
    },
    "id": "maxBPM9FariM",
    "outputId": "def9dc5d-f437-424d-f072-10e7e00ad419"
   },
   "outputs": [
    {
     "data": {
      "text/plain": [
       "(3489, 150, 130, 3)"
      ]
     },
     "execution_count": 95,
     "metadata": {
      "tags": []
     },
     "output_type": "execute_result"
    }
   ],
   "source": [
    "test_X.shape"
   ]
  },
  {
   "cell_type": "code",
   "execution_count": null,
   "metadata": {
    "id": "td7ovH6fariJ"
   },
   "outputs": [],
   "source": [
    "import tensorflow as tf"
   ]
  },
  {
   "cell_type": "code",
   "execution_count": null,
   "metadata": {
    "id": "TMJBAwzKariK"
   },
   "outputs": [],
   "source": [
    "class myCallback(tf.keras.callbacks.Callback):\n",
    "    def on_epoch_end(self, epoch, logs = {}):\n",
    "        if(logs.get('acc') >= .98):\n",
    "            print(\"Cancelling Training\")\n",
    "            self.model.stop_training = True"
   ]
  },
  {
   "cell_type": "code",
   "execution_count": null,
   "metadata": {
    "id": "pxthSfSbariK"
   },
   "outputs": [],
   "source": [
    "callbacks = myCallback()"
   ]
  },
  {
   "cell_type": "code",
   "execution_count": null,
   "metadata": {
    "id": "aS6lgadel426"
   },
   "outputs": [],
   "source": [
    "tf.keras.backend.clear_session()"
   ]
  },
  {
   "cell_type": "code",
   "execution_count": null,
   "metadata": {},
   "outputs": [],
   "source": [
    "model = tf.keras.models.Sequential([\n",
    "  tf.keras.layers.Conv2D(32, (3,3), activation='tanh', input_shape=(ih, iw, 3)),\n",
    "  tf.keras.layers.MaxPooling2D(2, 2),\n",
    "  tf.keras.layers.Conv2D(64, (3,3), activation='tanh'),\n",
    "  tf.keras.layers.MaxPooling2D(2,2),\n",
    "  tf.keras.layers.Conv2D(128, (3,3), activation='tanh'),\n",
    "  tf.keras.layers.AveragePooling2D(2,2),\n",
    "  tf.keras.layers.Conv2D(256, (3,3), activation='tanh'),\n",
    "  tf.keras.layers.AveragePooling2D(2,2),\n",
    "   tf.keras.layers.Conv2D(512, (3,3), activation='tanh'),\n",
    "  tf.keras.layers.AveragePooling2D(2,2),\n",
    "  tf.keras.layers.Flatten(),\n",
    "  tf.keras.layers.Dense(512, activation='tanh'),\n",
    "  tf.keras.layers.Dense(1024, activation='tanh'),\n",
    "  tf.keras.layers.Dense(6, activation='softmax')\n",
    "])\n",
    "model.compile(optimizer='adam', loss='sparse_categorical_crossentropy', metrics=['acc'])\n",
    "model.summary()\n",
    "# model.fit(X_train, y_train, epochs = 50, batch_size = 32, callbacks = [callbacks])\n",
    "model.fit(XX_train, yy_train, epochs = 50, batch_size = 16, validation_data = (XX_test, yy_test), callbacks = [callbacks])"
   ]
  },
  {
   "cell_type": "markdown",
   "metadata": {
    "id": "HubaaQaYariL"
   },
   "source": [
    "## Prediction"
   ]
  },
  {
   "cell_type": "code",
   "execution_count": null,
   "metadata": {
    "id": "VrrauQb8ariN"
   },
   "outputs": [],
   "source": [
    "y_hat = model.predict(test_X)"
   ]
  },
  {
   "cell_type": "code",
   "execution_count": null,
   "metadata": {
    "id": "zdOsjKKLariN"
   },
   "outputs": [],
   "source": [
    "test_y = []"
   ]
  },
  {
   "cell_type": "code",
   "execution_count": null,
   "metadata": {
    "id": "9-DmYbe9ariN"
   },
   "outputs": [],
   "source": [
    "for lis in y_hat:\n",
    "    index = np.argmax(lis)\n",
    "    test_y.append(rev_mapp[index])"
   ]
  },
  {
   "cell_type": "code",
   "execution_count": null,
   "metadata": {
    "colab": {
     "base_uri": "https://localhost:8080/"
    },
    "executionInfo": {
     "elapsed": 4338,
     "status": "ok",
     "timestamp": 1612704901676,
     "user": {
      "displayName": "Akshay Kumar",
      "photoUrl": "https://lh3.googleusercontent.com/a-/AOh14Gjh2A-fwHDdUGkRUNEORkNYYCWKa-6rFJz8LrmbGQ=s64",
      "userId": "16196635865337803652"
     },
     "user_tz": -330
    },
    "id": "QZqLcEu9ariN",
    "outputId": "e32aed63-fe4f-434e-a7d8-b875667f9820"
   },
   "outputs": [
    {
     "name": "stdout",
     "output_type": "stream",
     "text": [
      "['Jacket', 'Candle', 'Jacket', 'Christmas_Tree', 'Miscellaneous']\n"
     ]
    }
   ],
   "source": [
    "print(test_y[:5])"
   ]
  },
  {
   "cell_type": "code",
   "execution_count": null,
   "metadata": {
    "id": "XRIjf8qwariO"
   },
   "outputs": [],
   "source": [
    "res = {}\n",
    "for i in range(test_X.shape[0]):\n",
    "    res[file_name[i]] = test_y[i]"
   ]
  },
  {
   "cell_type": "code",
   "execution_count": null,
   "metadata": {
    "id": "5lcRbUCOariO"
   },
   "outputs": [],
   "source": [
    "result = pd.DataFrame(list(res.items()), columns = ['Image', 'Class'])"
   ]
  },
  {
   "cell_type": "code",
   "execution_count": null,
   "metadata": {
    "colab": {
     "base_uri": "https://localhost:8080/",
     "height": 195
    },
    "executionInfo": {
     "elapsed": 1461,
     "status": "ok",
     "timestamp": 1612705190160,
     "user": {
      "displayName": "Akshay Kumar",
      "photoUrl": "https://lh3.googleusercontent.com/a-/AOh14Gjh2A-fwHDdUGkRUNEORkNYYCWKa-6rFJz8LrmbGQ=s64",
      "userId": "16196635865337803652"
     },
     "user_tz": -330
    },
    "id": "bhSBdUEbariO",
    "outputId": "444c86aa-879e-4701-e5b3-8cff152c23a8"
   },
   "outputs": [
    {
     "data": {
      "text/html": [
       "<div>\n",
       "<style scoped>\n",
       "    .dataframe tbody tr th:only-of-type {\n",
       "        vertical-align: middle;\n",
       "    }\n",
       "\n",
       "    .dataframe tbody tr th {\n",
       "        vertical-align: top;\n",
       "    }\n",
       "\n",
       "    .dataframe thead th {\n",
       "        text-align: right;\n",
       "    }\n",
       "</style>\n",
       "<table border=\"1\" class=\"dataframe\">\n",
       "  <thead>\n",
       "    <tr style=\"text-align: right;\">\n",
       "      <th></th>\n",
       "      <th>Image</th>\n",
       "      <th>Class</th>\n",
       "    </tr>\n",
       "  </thead>\n",
       "  <tbody>\n",
       "    <tr>\n",
       "      <th>0</th>\n",
       "      <td>image8132.jpg</td>\n",
       "      <td>Jacket</td>\n",
       "    </tr>\n",
       "    <tr>\n",
       "      <th>1</th>\n",
       "      <td>image1490.jpg</td>\n",
       "      <td>Candle</td>\n",
       "    </tr>\n",
       "    <tr>\n",
       "      <th>2</th>\n",
       "      <td>image3111.jpg</td>\n",
       "      <td>Jacket</td>\n",
       "    </tr>\n",
       "    <tr>\n",
       "      <th>3</th>\n",
       "      <td>image664.jpg</td>\n",
       "      <td>Christmas_Tree</td>\n",
       "    </tr>\n",
       "    <tr>\n",
       "      <th>4</th>\n",
       "      <td>image5802.jpg</td>\n",
       "      <td>Miscellaneous</td>\n",
       "    </tr>\n",
       "  </tbody>\n",
       "</table>\n",
       "</div>"
      ],
      "text/plain": [
       "           Image           Class\n",
       "0  image8132.jpg          Jacket\n",
       "1  image1490.jpg          Candle\n",
       "2  image3111.jpg          Jacket\n",
       "3   image664.jpg  Christmas_Tree\n",
       "4  image5802.jpg   Miscellaneous"
      ]
     },
     "execution_count": 112,
     "metadata": {
      "tags": []
     },
     "output_type": "execute_result"
    }
   ],
   "source": [
    "result.head()"
   ]
  },
  {
   "cell_type": "code",
   "execution_count": null,
   "metadata": {
    "colab": {
     "base_uri": "https://localhost:8080/"
    },
    "executionInfo": {
     "elapsed": 907,
     "status": "ok",
     "timestamp": 1612705190171,
     "user": {
      "displayName": "Akshay Kumar",
      "photoUrl": "https://lh3.googleusercontent.com/a-/AOh14Gjh2A-fwHDdUGkRUNEORkNYYCWKa-6rFJz8LrmbGQ=s64",
      "userId": "16196635865337803652"
     },
     "user_tz": -330
    },
    "id": "IEhUck58ariP",
    "outputId": "05a15232-24ee-4959-928e-7a052a808cbc"
   },
   "outputs": [
    {
     "name": "stdout",
     "output_type": "stream",
     "text": [
      "           Image           Class\n",
      "0  image8132.jpg          Jacket\n",
      "1  image1490.jpg          Candle\n",
      "2  image3111.jpg          Jacket\n",
      "3   image664.jpg  Christmas_Tree\n",
      "4  image5802.jpg   Miscellaneous\n"
     ]
    }
   ],
   "source": [
    "print(result.head())"
   ]
  },
  {
   "cell_type": "code",
   "execution_count": null,
   "metadata": {
    "id": "cRh85SegariP"
   },
   "outputs": [],
   "source": [
    "result.to_csv('out.csv',index = False)"
   ]
  },
  {
   "cell_type": "code",
   "execution_count": null,
   "metadata": {
    "id": "AtbDchlXariP"
   },
   "outputs": [],
   "source": [
    "dff = pd.read_csv('out.csv')"
   ]
  },
  {
   "cell_type": "code",
   "execution_count": null,
   "metadata": {
    "colab": {
     "base_uri": "https://localhost:8080/",
     "height": 195
    },
    "executionInfo": {
     "elapsed": 908,
     "status": "ok",
     "timestamp": 1612703435501,
     "user": {
      "displayName": "Akshay Kumar",
      "photoUrl": "https://lh3.googleusercontent.com/a-/AOh14Gjh2A-fwHDdUGkRUNEORkNYYCWKa-6rFJz8LrmbGQ=s64",
      "userId": "16196635865337803652"
     },
     "user_tz": -330
    },
    "id": "nTXK8UL5ariP",
    "outputId": "e0826845-fdd4-429e-dfc8-ec56649d50e6"
   },
   "outputs": [
    {
     "data": {
      "text/html": [
       "<div>\n",
       "<style scoped>\n",
       "    .dataframe tbody tr th:only-of-type {\n",
       "        vertical-align: middle;\n",
       "    }\n",
       "\n",
       "    .dataframe tbody tr th {\n",
       "        vertical-align: top;\n",
       "    }\n",
       "\n",
       "    .dataframe thead th {\n",
       "        text-align: right;\n",
       "    }\n",
       "</style>\n",
       "<table border=\"1\" class=\"dataframe\">\n",
       "  <thead>\n",
       "    <tr style=\"text-align: right;\">\n",
       "      <th></th>\n",
       "      <th>Image</th>\n",
       "      <th>Class</th>\n",
       "    </tr>\n",
       "  </thead>\n",
       "  <tbody>\n",
       "    <tr>\n",
       "      <th>0</th>\n",
       "      <td>image8132.jpg</td>\n",
       "      <td>Miscellaneous</td>\n",
       "    </tr>\n",
       "    <tr>\n",
       "      <th>1</th>\n",
       "      <td>image1490.jpg</td>\n",
       "      <td>Candle</td>\n",
       "    </tr>\n",
       "    <tr>\n",
       "      <th>2</th>\n",
       "      <td>image3111.jpg</td>\n",
       "      <td>Jacket</td>\n",
       "    </tr>\n",
       "    <tr>\n",
       "      <th>3</th>\n",
       "      <td>image664.jpg</td>\n",
       "      <td>Christmas_Tree</td>\n",
       "    </tr>\n",
       "    <tr>\n",
       "      <th>4</th>\n",
       "      <td>image5802.jpg</td>\n",
       "      <td>Miscellaneous</td>\n",
       "    </tr>\n",
       "  </tbody>\n",
       "</table>\n",
       "</div>"
      ],
      "text/plain": [
       "           Image           Class\n",
       "0  image8132.jpg   Miscellaneous\n",
       "1  image1490.jpg          Candle\n",
       "2  image3111.jpg          Jacket\n",
       "3   image664.jpg  Christmas_Tree\n",
       "4  image5802.jpg   Miscellaneous"
      ]
     },
     "execution_count": 68,
     "metadata": {
      "tags": []
     },
     "output_type": "execute_result"
    }
   ],
   "source": [
    "dff.head()"
   ]
  },
  {
   "cell_type": "code",
   "execution_count": null,
   "metadata": {
    "id": "8BORGOI2gvlh"
   },
   "outputs": [],
   "source": []
  }
 ],
 "metadata": {
  "accelerator": "GPU",
  "colab": {
   "name": "BasicCNN.ipynb",
   "provenance": []
  },
  "kernelspec": {
   "display_name": "Python 3",
   "language": "python",
   "name": "python3"
  },
  "language_info": {
   "codemirror_mode": {
    "name": "ipython",
    "version": 3
   },
   "file_extension": ".py",
   "mimetype": "text/x-python",
   "name": "python",
   "nbconvert_exporter": "python",
   "pygments_lexer": "ipython3",
   "version": "3.8.5"
  }
 },
 "nbformat": 4,
 "nbformat_minor": 1
}
