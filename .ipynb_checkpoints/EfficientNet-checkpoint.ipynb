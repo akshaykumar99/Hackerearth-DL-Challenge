{
 "cells": [
  {
   "cell_type": "code",
   "execution_count": 7,
   "metadata": {
    "colab": {
     "base_uri": "https://localhost:8080/"
    },
    "executionInfo": {
     "elapsed": 1077,
     "status": "ok",
     "timestamp": 1612878461713,
     "user": {
      "displayName": "Akshay Kumar",
      "photoUrl": "https://lh3.googleusercontent.com/a-/AOh14Gjh2A-fwHDdUGkRUNEORkNYYCWKa-6rFJz8LrmbGQ=s64",
      "userId": "16196635865337803652"
     },
     "user_tz": -330
    },
    "id": "DdActfoPbc9s",
    "outputId": "cd7968dd-e95c-46af-9ebd-fac98c41dcf0"
   },
   "outputs": [
    {
     "name": "stdout",
     "output_type": "stream",
     "text": [
      "Drive already mounted at /content/drive; to attempt to forcibly remount, call drive.mount(\"/content/drive\", force_remount=True).\n"
     ]
    }
   ],
   "source": [
    "from google.colab import drive\n",
    "drive.mount('/content/drive')"
   ]
  },
  {
   "cell_type": "code",
   "execution_count": 8,
   "metadata": {
    "executionInfo": {
     "elapsed": 1392,
     "status": "ok",
     "timestamp": 1612878469798,
     "user": {
      "displayName": "Akshay Kumar",
      "photoUrl": "https://lh3.googleusercontent.com/a-/AOh14Gjh2A-fwHDdUGkRUNEORkNYYCWKa-6rFJz8LrmbGQ=s64",
      "userId": "16196635865337803652"
     },
     "user_tz": -330
    },
    "id": "8OBshLtjb74Q"
   },
   "outputs": [],
   "source": [
    "import os\n",
    "os.chdir('/content/drive/My Drive/Colab Notebooks/Hackerearth Challenges/Deeplearning 1')"
   ]
  },
  {
   "cell_type": "code",
   "execution_count": 9,
   "metadata": {
    "colab": {
     "base_uri": "https://localhost:8080/",
     "height": 35
    },
    "executionInfo": {
     "elapsed": 1055,
     "status": "ok",
     "timestamp": 1612878470666,
     "user": {
      "displayName": "Akshay Kumar",
      "photoUrl": "https://lh3.googleusercontent.com/a-/AOh14Gjh2A-fwHDdUGkRUNEORkNYYCWKa-6rFJz8LrmbGQ=s64",
      "userId": "16196635865337803652"
     },
     "user_tz": -330
    },
    "id": "D_gEeA4Pe8vJ",
    "outputId": "a5102ccc-9e7f-4a1b-dec8-b85514ec6a05"
   },
   "outputs": [
    {
     "data": {
      "application/vnd.google.colaboratory.intrinsic+json": {
       "type": "string"
      },
      "text/plain": [
       "'/content/drive/My Drive/Colab Notebooks/Hackerearth Challenges/Deeplearning 1'"
      ]
     },
     "execution_count": 9,
     "metadata": {
      "tags": []
     },
     "output_type": "execute_result"
    }
   ],
   "source": [
    "pwd"
   ]
  },
  {
   "cell_type": "code",
   "execution_count": 10,
   "metadata": {
    "executionInfo": {
     "elapsed": 1425,
     "status": "ok",
     "timestamp": 1612878471911,
     "user": {
      "displayName": "Akshay Kumar",
      "photoUrl": "https://lh3.googleusercontent.com/a-/AOh14Gjh2A-fwHDdUGkRUNEORkNYYCWKa-6rFJz8LrmbGQ=s64",
      "userId": "16196635865337803652"
     },
     "user_tz": -330
    },
    "id": "3ovykQTZariA"
   },
   "outputs": [],
   "source": [
    "import pandas as pd\n",
    "import numpy as np\n",
    "from keras.preprocessing import image\n",
    "import matplotlib.pyplot as plt"
   ]
  },
  {
   "cell_type": "code",
   "execution_count": 11,
   "metadata": {
    "executionInfo": {
     "elapsed": 1262,
     "status": "ok",
     "timestamp": 1612878472968,
     "user": {
      "displayName": "Akshay Kumar",
      "photoUrl": "https://lh3.googleusercontent.com/a-/AOh14Gjh2A-fwHDdUGkRUNEORkNYYCWKa-6rFJz8LrmbGQ=s64",
      "userId": "16196635865337803652"
     },
     "user_tz": -330
    },
    "id": "kFezmL6we9kb"
   },
   "outputs": [],
   "source": [
    "# !wget -O data t.ly/Wh06"
   ]
  },
  {
   "cell_type": "code",
   "execution_count": null,
   "metadata": {},
   "outputs": [],
   "source": [
    "# !unzip data"
   ]
  },
  {
   "cell_type": "code",
   "execution_count": null,
   "metadata": {
    "colab": {
     "base_uri": "https://localhost:8080/",
     "height": 195
    },
    "executionInfo": {
     "elapsed": 1419,
     "status": "ok",
     "timestamp": 1612877864445,
     "user": {
      "displayName": "Akshay Kumar",
      "photoUrl": "https://lh3.googleusercontent.com/a-/AOh14Gjh2A-fwHDdUGkRUNEORkNYYCWKa-6rFJz8LrmbGQ=s64",
      "userId": "16196635865337803652"
     },
     "user_tz": -330
    },
    "id": "_CTSmOGOariD",
    "outputId": "e2c90706-eec9-4ba0-ae73-3162b45394af"
   },
   "outputs": [
    {
     "data": {
      "text/html": [
       "<div>\n",
       "<style scoped>\n",
       "    .dataframe tbody tr th:only-of-type {\n",
       "        vertical-align: middle;\n",
       "    }\n",
       "\n",
       "    .dataframe tbody tr th {\n",
       "        vertical-align: top;\n",
       "    }\n",
       "\n",
       "    .dataframe thead th {\n",
       "        text-align: right;\n",
       "    }\n",
       "</style>\n",
       "<table border=\"1\" class=\"dataframe\">\n",
       "  <thead>\n",
       "    <tr style=\"text-align: right;\">\n",
       "      <th></th>\n",
       "      <th>Image</th>\n",
       "      <th>Class</th>\n",
       "    </tr>\n",
       "  </thead>\n",
       "  <tbody>\n",
       "    <tr>\n",
       "      <th>0</th>\n",
       "      <td>image3476.jpg</td>\n",
       "      <td>Miscellaneous</td>\n",
       "    </tr>\n",
       "    <tr>\n",
       "      <th>1</th>\n",
       "      <td>image5198.jpg</td>\n",
       "      <td>Candle</td>\n",
       "    </tr>\n",
       "    <tr>\n",
       "      <th>2</th>\n",
       "      <td>image4183.jpg</td>\n",
       "      <td>Snowman</td>\n",
       "    </tr>\n",
       "    <tr>\n",
       "      <th>3</th>\n",
       "      <td>image1806.jpg</td>\n",
       "      <td>Miscellaneous</td>\n",
       "    </tr>\n",
       "    <tr>\n",
       "      <th>4</th>\n",
       "      <td>image7831.jpg</td>\n",
       "      <td>Miscellaneous</td>\n",
       "    </tr>\n",
       "  </tbody>\n",
       "</table>\n",
       "</div>"
      ],
      "text/plain": [
       "           Image          Class\n",
       "0  image3476.jpg  Miscellaneous\n",
       "1  image5198.jpg         Candle\n",
       "2  image4183.jpg        Snowman\n",
       "3  image1806.jpg  Miscellaneous\n",
       "4  image7831.jpg  Miscellaneous"
      ]
     },
     "execution_count": 8,
     "metadata": {
      "tags": []
     },
     "output_type": "execute_result"
    }
   ],
   "source": [
    "df = pd.read_csv('./dataset/train.csv')\n",
    "df.head()"
   ]
  },
  {
   "cell_type": "code",
   "execution_count": null,
   "metadata": {
    "colab": {
     "base_uri": "https://localhost:8080/"
    },
    "executionInfo": {
     "elapsed": 1687,
     "status": "ok",
     "timestamp": 1612877865732,
     "user": {
      "displayName": "Akshay Kumar",
      "photoUrl": "https://lh3.googleusercontent.com/a-/AOh14Gjh2A-fwHDdUGkRUNEORkNYYCWKa-6rFJz8LrmbGQ=s64",
      "userId": "16196635865337803652"
     },
     "user_tz": -330
    },
    "id": "bNPPs9rLariF",
    "outputId": "b55aadd4-442d-40c9-8a5d-56a9acaf0953"
   },
   "outputs": [
    {
     "data": {
      "text/plain": [
       "Miscellaneous     2801\n",
       "Christmas_Tree    1539\n",
       "Jacket             640\n",
       "Candle             593\n",
       "Airplane           535\n",
       "Snowman            361\n",
       "Name: Class, dtype: int64"
      ]
     },
     "execution_count": 9,
     "metadata": {
      "tags": []
     },
     "output_type": "execute_result"
    }
   ],
   "source": [
    "df['Class'].value_counts()"
   ]
  },
  {
   "cell_type": "code",
   "execution_count": null,
   "metadata": {
    "id": "Vy9OmbYbariF"
   },
   "outputs": [],
   "source": [
    "mapp = {}\n",
    "rev_mapp = {}\n",
    "curr = 0\n",
    "for label in df['Class'].unique():\n",
    "    mapp[label] = curr\n",
    "    rev_mapp[curr] = label\n",
    "    curr += 1"
   ]
  },
  {
   "cell_type": "code",
   "execution_count": null,
   "metadata": {
    "id": "KrfuFCTRariG"
   },
   "outputs": [],
   "source": [
    "temp_data = {}\n",
    "for index, row in df.iterrows():\n",
    "    temp_data[row['Image']] = row['Class']"
   ]
  },
  {
   "cell_type": "code",
   "execution_count": null,
   "metadata": {
    "id": "jYxP0n4iariG"
   },
   "outputs": [],
   "source": [
    "# temp_data"
   ]
  },
  {
   "cell_type": "code",
   "execution_count": null,
   "metadata": {
    "colab": {
     "base_uri": "https://localhost:8080/"
    },
    "executionInfo": {
     "elapsed": 1121,
     "status": "ok",
     "timestamp": 1612877871050,
     "user": {
      "displayName": "Akshay Kumar",
      "photoUrl": "https://lh3.googleusercontent.com/a-/AOh14Gjh2A-fwHDdUGkRUNEORkNYYCWKa-6rFJz8LrmbGQ=s64",
      "userId": "16196635865337803652"
     },
     "user_tz": -330
    },
    "id": "HUFRIEDfariH",
    "outputId": "a8ede58b-da15-424b-c332-cf1084fb2908"
   },
   "outputs": [
    {
     "data": {
      "text/plain": [
       "['weights.h5',\n",
       " 'data',\n",
       " 'Transfer learning.ipynb',\n",
       " 'BasicCNN.ipynb',\n",
       " 'Resnet50.ipynb',\n",
       " 'dataset',\n",
       " 'out.csv',\n",
       " 'EfficientNet.ipynb']"
      ]
     },
     "execution_count": 13,
     "metadata": {
      "tags": []
     },
     "output_type": "execute_result"
    }
   ],
   "source": [
    "os.listdir()"
   ]
  },
  {
   "cell_type": "markdown",
   "metadata": {
    "id": "Vsk1k4ohariH"
   },
   "source": [
    "## Training set"
   ]
  },
  {
   "cell_type": "code",
   "execution_count": null,
   "metadata": {
    "id": "d7I_RDtnZpxA"
   },
   "outputs": [],
   "source": [
    "ih = 200\n",
    "iw = 180"
   ]
  },
  {
   "cell_type": "code",
   "execution_count": null,
   "metadata": {
    "id": "EE315oyMariI"
   },
   "outputs": [],
   "source": [
    "path = './dataset/train'\n",
    "X_train = []\n",
    "y_train = []"
   ]
  },
  {
   "cell_type": "code",
   "execution_count": null,
   "metadata": {},
   "outputs": [],
   "source": [
    "from tqdm import tqdm\n",
    "for file in tqdm(os.listdir(path)):\n",
    "    img = image.load_img(os.path.join(path, file), target_size = (ih,iw))\n",
    "    x = image.img_to_array(img)\n",
    "    X_train.append(x)\n",
    "    y_train.append(mapp[temp_data[file]])"
   ]
  },
  {
   "cell_type": "code",
   "execution_count": null,
   "metadata": {
    "id": "DADpYbVoariJ"
   },
   "outputs": [],
   "source": [
    "X_train = np.stack(X_train)\n",
    "y_train = np.stack(y_train)"
   ]
  },
  {
   "cell_type": "code",
   "execution_count": null,
   "metadata": {
    "colab": {
     "base_uri": "https://localhost:8080/"
    },
    "executionInfo": {
     "elapsed": 5885,
     "status": "ok",
     "timestamp": 1612872959531,
     "user": {
      "displayName": "Akshay Kumar",
      "photoUrl": "https://lh3.googleusercontent.com/a-/AOh14Gjh2A-fwHDdUGkRUNEORkNYYCWKa-6rFJz8LrmbGQ=s64",
      "userId": "16196635865337803652"
     },
     "user_tz": -330
    },
    "id": "y0No_qTKariJ",
    "outputId": "6b038ecb-fc13-4724-c403-6df276e9a2d4"
   },
   "outputs": [
    {
     "name": "stdout",
     "output_type": "stream",
     "text": [
      "(6469, 100, 70, 3) (6469,)\n"
     ]
    }
   ],
   "source": [
    "print(X_train.shape, y_train.shape)"
   ]
  },
  {
   "cell_type": "code",
   "execution_count": null,
   "metadata": {
    "id": "mx8GgPiTi0OT"
   },
   "outputs": [],
   "source": [
    "from sklearn.model_selection import train_test_split\n",
    "XX_train, XX_test, yy_train, yy_test = train_test_split(X_train, y_train, test_size = 0.05)"
   ]
  },
  {
   "cell_type": "code",
   "execution_count": null,
   "metadata": {
    "colab": {
     "base_uri": "https://localhost:8080/"
    },
    "executionInfo": {
     "elapsed": 2936,
     "status": "ok",
     "timestamp": 1612872960585,
     "user": {
      "displayName": "Akshay Kumar",
      "photoUrl": "https://lh3.googleusercontent.com/a-/AOh14Gjh2A-fwHDdUGkRUNEORkNYYCWKa-6rFJz8LrmbGQ=s64",
      "userId": "16196635865337803652"
     },
     "user_tz": -330
    },
    "id": "demoCth1k9ms",
    "outputId": "5364be02-7af6-4af8-d4cb-29ddb7593d9c"
   },
   "outputs": [
    {
     "name": "stdout",
     "output_type": "stream",
     "text": [
      "(6145, 100, 70, 3) (324, 100, 70, 3)\n"
     ]
    }
   ],
   "source": [
    "print(XX_train.shape, XX_test.shape)"
   ]
  },
  {
   "cell_type": "code",
   "execution_count": null,
   "metadata": {
    "id": "jP6Zg-lSariL"
   },
   "outputs": [],
   "source": [
    "path = './dataset/test'\n",
    "test_X = []\n",
    "file_name = []"
   ]
  },
  {
   "cell_type": "code",
   "execution_count": null,
   "metadata": {
    "colab": {
     "base_uri": "https://localhost:8080/"
    },
    "executionInfo": {
     "elapsed": 5766,
     "status": "ok",
     "timestamp": 1612872972248,
     "user": {
      "displayName": "Akshay Kumar",
      "photoUrl": "https://lh3.googleusercontent.com/a-/AOh14Gjh2A-fwHDdUGkRUNEORkNYYCWKa-6rFJz8LrmbGQ=s64",
      "userId": "16196635865337803652"
     },
     "user_tz": -330
    },
    "id": "6NiY8YhrariM",
    "outputId": "8ecb2010-13af-4a5f-f390-f8edacbb5e55"
   },
   "outputs": [
    {
     "name": "stderr",
     "output_type": "stream",
     "text": [
      "100%|██████████| 3489/3489 [00:04<00:00, 845.61it/s]\n"
     ]
    }
   ],
   "source": [
    "for file in tqdm(os.listdir(path)):\n",
    "    file_name.append(file)\n",
    "    img = image.load_img(os.path.join(path, file), target_size = (ih, iw))\n",
    "    x = image.img_to_array(img)\n",
    "    test_X.append(x)"
   ]
  },
  {
   "cell_type": "code",
   "execution_count": null,
   "metadata": {
    "id": "-SNMPWbtariM"
   },
   "outputs": [],
   "source": [
    "test_X = np.stack(test_X)"
   ]
  },
  {
   "cell_type": "code",
   "execution_count": null,
   "metadata": {
    "colab": {
     "base_uri": "https://localhost:8080/"
    },
    "executionInfo": {
     "elapsed": 3399,
     "status": "ok",
     "timestamp": 1612875623375,
     "user": {
      "displayName": "Akshay Kumar",
      "photoUrl": "https://lh3.googleusercontent.com/a-/AOh14Gjh2A-fwHDdUGkRUNEORkNYYCWKa-6rFJz8LrmbGQ=s64",
      "userId": "16196635865337803652"
     },
     "user_tz": -330
    },
    "id": "maxBPM9FariM",
    "outputId": "9bcd32fc-33f0-453b-a3e9-e6abf6658e8a"
   },
   "outputs": [
    {
     "data": {
      "text/plain": [
       "(3489, 100, 70, 3)"
      ]
     },
     "execution_count": 79,
     "metadata": {
      "tags": []
     },
     "output_type": "execute_result"
    }
   ],
   "source": [
    "test_X.shape"
   ]
  },
  {
   "cell_type": "code",
   "execution_count": null,
   "metadata": {
    "id": "td7ovH6fariJ"
   },
   "outputs": [],
   "source": [
    "import tensorflow as tf"
   ]
  },
  {
   "cell_type": "code",
   "execution_count": null,
   "metadata": {
    "id": "aS6lgadel426"
   },
   "outputs": [],
   "source": [
    "tf.keras.backend.clear_session()"
   ]
  },
  {
   "cell_type": "code",
   "execution_count": null,
   "metadata": {
    "id": "TMJBAwzKariK"
   },
   "outputs": [],
   "source": [
    "class myCallback(tf.keras.callbacks.Callback):\n",
    "    def on_epoch_end(self, epoch, logs = {}):\n",
    "        if(logs.get('acc') >= .9999):\n",
    "            print(\"Cancelling Training\")\n",
    "            self.model.stop_training = True\n",
    "\n",
    "callbacks = myCallback()"
   ]
  },
  {
   "cell_type": "code",
   "execution_count": null,
   "metadata": {
    "colab": {
     "base_uri": "https://localhost:8080/"
    },
    "executionInfo": {
     "elapsed": 5848,
     "status": "ok",
     "timestamp": 1612875619735,
     "user": {
      "displayName": "Akshay Kumar",
      "photoUrl": "https://lh3.googleusercontent.com/a-/AOh14Gjh2A-fwHDdUGkRUNEORkNYYCWKa-6rFJz8LrmbGQ=s64",
      "userId": "16196635865337803652"
     },
     "user_tz": -330
    },
    "id": "7nOMHRT84X1H",
    "outputId": "df5a0b07-653f-43f0-b32e-67637d2b4bd6"
   },
   "outputs": [
    {
     "name": "stdout",
     "output_type": "stream",
     "text": [
      "Requirement already up-to-date: efficientnet in /usr/local/lib/python3.6/dist-packages (1.1.1)\n",
      "Requirement already satisfied, skipping upgrade: keras-applications<=1.0.8,>=1.0.7 in /usr/local/lib/python3.6/dist-packages (from efficientnet) (1.0.8)\n",
      "Requirement already satisfied, skipping upgrade: scikit-image in /usr/local/lib/python3.6/dist-packages (from efficientnet) (0.16.2)\n",
      "Requirement already satisfied, skipping upgrade: numpy>=1.9.1 in /usr/local/lib/python3.6/dist-packages (from keras-applications<=1.0.8,>=1.0.7->efficientnet) (1.19.5)\n",
      "Requirement already satisfied, skipping upgrade: h5py in /usr/local/lib/python3.6/dist-packages (from keras-applications<=1.0.8,>=1.0.7->efficientnet) (2.10.0)\n",
      "Requirement already satisfied, skipping upgrade: imageio>=2.3.0 in /usr/local/lib/python3.6/dist-packages (from scikit-image->efficientnet) (2.4.1)\n",
      "Requirement already satisfied, skipping upgrade: networkx>=2.0 in /usr/local/lib/python3.6/dist-packages (from scikit-image->efficientnet) (2.5)\n",
      "Requirement already satisfied, skipping upgrade: matplotlib!=3.0.0,>=2.0.0 in /usr/local/lib/python3.6/dist-packages (from scikit-image->efficientnet) (3.2.2)\n",
      "Requirement already satisfied, skipping upgrade: PyWavelets>=0.4.0 in /usr/local/lib/python3.6/dist-packages (from scikit-image->efficientnet) (1.1.1)\n",
      "Requirement already satisfied, skipping upgrade: scipy>=0.19.0 in /usr/local/lib/python3.6/dist-packages (from scikit-image->efficientnet) (1.4.1)\n",
      "Requirement already satisfied, skipping upgrade: pillow>=4.3.0 in /usr/local/lib/python3.6/dist-packages (from scikit-image->efficientnet) (7.0.0)\n",
      "Requirement already satisfied, skipping upgrade: six in /usr/local/lib/python3.6/dist-packages (from h5py->keras-applications<=1.0.8,>=1.0.7->efficientnet) (1.15.0)\n",
      "Requirement already satisfied, skipping upgrade: decorator>=4.3.0 in /usr/local/lib/python3.6/dist-packages (from networkx>=2.0->scikit-image->efficientnet) (4.4.2)\n",
      "Requirement already satisfied, skipping upgrade: pyparsing!=2.0.4,!=2.1.2,!=2.1.6,>=2.0.1 in /usr/local/lib/python3.6/dist-packages (from matplotlib!=3.0.0,>=2.0.0->scikit-image->efficientnet) (2.4.7)\n",
      "Requirement already satisfied, skipping upgrade: cycler>=0.10 in /usr/local/lib/python3.6/dist-packages (from matplotlib!=3.0.0,>=2.0.0->scikit-image->efficientnet) (0.10.0)\n",
      "Requirement already satisfied, skipping upgrade: python-dateutil>=2.1 in /usr/local/lib/python3.6/dist-packages (from matplotlib!=3.0.0,>=2.0.0->scikit-image->efficientnet) (2.8.1)\n",
      "Requirement already satisfied, skipping upgrade: kiwisolver>=1.0.1 in /usr/local/lib/python3.6/dist-packages (from matplotlib!=3.0.0,>=2.0.0->scikit-image->efficientnet) (1.3.1)\n"
     ]
    }
   ],
   "source": [
    "!pip install -U efficientnet"
   ]
  },
  {
   "cell_type": "code",
   "execution_count": null,
   "metadata": {
    "id": "7vhAqVr_gfca"
   },
   "outputs": [],
   "source": [
    "import efficientnet.keras as efn"
   ]
  },
  {
   "cell_type": "code",
   "execution_count": null,
   "metadata": {
    "id": "6Ah_WAvmariK"
   },
   "outputs": [],
   "source": [
    "from tensorflow.keras.models import Sequential\n",
    "from tensorflow.keras import Model\n",
    "from tensorflow.keras.layers import Dense, Flatten, GlobalAveragePooling2D, Dropout"
   ]
  },
  {
   "cell_type": "code",
   "execution_count": null,
   "metadata": {
    "id": "Ym5O-4uTm2Kd"
   },
   "outputs": [],
   "source": [
    "base_model = Sequential()\n",
    "base_model.add(efn.EfficientNetB0(include_top = False, weights='imagenet', pooling='max'))\n",
    "# x = Flatten()(x)\n",
    "x = Dense(128,  activation = 'relu')(x)\n",
    "x = Dense(512, activation = 'relu')(x)\n",
    "base_model.add(Dense(6, activation='softmax'))\n",
    "base_model.compile(optimizer = 'adam',loss='sparse_categorical_crossentropy',metrics=['acc'])"
   ]
  },
  {
   "cell_type": "code",
   "execution_count": null,
   "metadata": {},
   "outputs": [],
   "source": [
    "base_model.fit(XX_train, yy_train, epochs = 10, batch_size = 16, validation_data=(XX_test, yy_test), callbacks = [callbacks])\n",
    "# base_model.fit(X_train, y_train, epochs = 10, batch_size = 16, callbacks = [callbacks])"
   ]
  },
  {
   "cell_type": "markdown",
   "metadata": {
    "id": "HubaaQaYariL"
   },
   "source": [
    "## Prediction"
   ]
  },
  {
   "cell_type": "code",
   "execution_count": null,
   "metadata": {
    "id": "VrrauQb8ariN"
   },
   "outputs": [],
   "source": [
    "y_hat = base_model.predict(test_X)"
   ]
  },
  {
   "cell_type": "code",
   "execution_count": null,
   "metadata": {
    "id": "zdOsjKKLariN"
   },
   "outputs": [],
   "source": [
    "test_y = []"
   ]
  },
  {
   "cell_type": "code",
   "execution_count": null,
   "metadata": {
    "id": "9-DmYbe9ariN"
   },
   "outputs": [],
   "source": [
    "for lis in y_hat:\n",
    "    index = np.argmax(lis)\n",
    "    test_y.append(rev_mapp[index])"
   ]
  },
  {
   "cell_type": "code",
   "execution_count": null,
   "metadata": {
    "colab": {
     "base_uri": "https://localhost:8080/"
    },
    "executionInfo": {
     "elapsed": 5274,
     "status": "ok",
     "timestamp": 1612877505392,
     "user": {
      "displayName": "Akshay Kumar",
      "photoUrl": "https://lh3.googleusercontent.com/a-/AOh14Gjh2A-fwHDdUGkRUNEORkNYYCWKa-6rFJz8LrmbGQ=s64",
      "userId": "16196635865337803652"
     },
     "user_tz": -330
    },
    "id": "QZqLcEu9ariN",
    "outputId": "073f04a1-39b5-497b-c0da-ccaf63cd6f64"
   },
   "outputs": [
    {
     "name": "stdout",
     "output_type": "stream",
     "text": [
      "['Jacket', 'Miscellaneous', 'Jacket', 'Christmas_Tree', 'Miscellaneous']\n"
     ]
    }
   ],
   "source": [
    "print(test_y[:5])"
   ]
  },
  {
   "cell_type": "code",
   "execution_count": null,
   "metadata": {
    "id": "XRIjf8qwariO"
   },
   "outputs": [],
   "source": [
    "res = {}\n",
    "for i in range(test_X.shape[0]):\n",
    "    res[file_name[i]] = test_y[i]"
   ]
  },
  {
   "cell_type": "code",
   "execution_count": null,
   "metadata": {
    "id": "5lcRbUCOariO"
   },
   "outputs": [],
   "source": [
    "result = pd.DataFrame(list(res.items()), columns = ['Image', 'Class'])"
   ]
  },
  {
   "cell_type": "code",
   "execution_count": null,
   "metadata": {
    "colab": {
     "base_uri": "https://localhost:8080/",
     "height": 195
    },
    "executionInfo": {
     "elapsed": 4580,
     "status": "ok",
     "timestamp": 1612877505409,
     "user": {
      "displayName": "Akshay Kumar",
      "photoUrl": "https://lh3.googleusercontent.com/a-/AOh14Gjh2A-fwHDdUGkRUNEORkNYYCWKa-6rFJz8LrmbGQ=s64",
      "userId": "16196635865337803652"
     },
     "user_tz": -330
    },
    "id": "bhSBdUEbariO",
    "outputId": "bb2cef12-fd8a-4372-d95d-1a1ecd3751b7"
   },
   "outputs": [
    {
     "data": {
      "text/html": [
       "<div>\n",
       "<style scoped>\n",
       "    .dataframe tbody tr th:only-of-type {\n",
       "        vertical-align: middle;\n",
       "    }\n",
       "\n",
       "    .dataframe tbody tr th {\n",
       "        vertical-align: top;\n",
       "    }\n",
       "\n",
       "    .dataframe thead th {\n",
       "        text-align: right;\n",
       "    }\n",
       "</style>\n",
       "<table border=\"1\" class=\"dataframe\">\n",
       "  <thead>\n",
       "    <tr style=\"text-align: right;\">\n",
       "      <th></th>\n",
       "      <th>Image</th>\n",
       "      <th>Class</th>\n",
       "    </tr>\n",
       "  </thead>\n",
       "  <tbody>\n",
       "    <tr>\n",
       "      <th>0</th>\n",
       "      <td>image8132.jpg</td>\n",
       "      <td>Jacket</td>\n",
       "    </tr>\n",
       "    <tr>\n",
       "      <th>1</th>\n",
       "      <td>image1490.jpg</td>\n",
       "      <td>Miscellaneous</td>\n",
       "    </tr>\n",
       "    <tr>\n",
       "      <th>2</th>\n",
       "      <td>image3111.jpg</td>\n",
       "      <td>Jacket</td>\n",
       "    </tr>\n",
       "    <tr>\n",
       "      <th>3</th>\n",
       "      <td>image664.jpg</td>\n",
       "      <td>Christmas_Tree</td>\n",
       "    </tr>\n",
       "    <tr>\n",
       "      <th>4</th>\n",
       "      <td>image5802.jpg</td>\n",
       "      <td>Miscellaneous</td>\n",
       "    </tr>\n",
       "  </tbody>\n",
       "</table>\n",
       "</div>"
      ],
      "text/plain": [
       "           Image           Class\n",
       "0  image8132.jpg          Jacket\n",
       "1  image1490.jpg   Miscellaneous\n",
       "2  image3111.jpg          Jacket\n",
       "3   image664.jpg  Christmas_Tree\n",
       "4  image5802.jpg   Miscellaneous"
      ]
     },
     "execution_count": 151,
     "metadata": {
      "tags": []
     },
     "output_type": "execute_result"
    }
   ],
   "source": [
    "result.head()"
   ]
  },
  {
   "cell_type": "code",
   "execution_count": null,
   "metadata": {
    "colab": {
     "base_uri": "https://localhost:8080/"
    },
    "executionInfo": {
     "elapsed": 4322,
     "status": "ok",
     "timestamp": 1612877505414,
     "user": {
      "displayName": "Akshay Kumar",
      "photoUrl": "https://lh3.googleusercontent.com/a-/AOh14Gjh2A-fwHDdUGkRUNEORkNYYCWKa-6rFJz8LrmbGQ=s64",
      "userId": "16196635865337803652"
     },
     "user_tz": -330
    },
    "id": "IEhUck58ariP",
    "outputId": "2a6a2674-51e8-4f63-f75b-6577b0a50f63"
   },
   "outputs": [
    {
     "name": "stdout",
     "output_type": "stream",
     "text": [
      "           Image           Class\n",
      "0  image8132.jpg          Jacket\n",
      "1  image1490.jpg   Miscellaneous\n",
      "2  image3111.jpg          Jacket\n",
      "3   image664.jpg  Christmas_Tree\n",
      "4  image5802.jpg   Miscellaneous\n"
     ]
    }
   ],
   "source": [
    "print(result.head())"
   ]
  },
  {
   "cell_type": "code",
   "execution_count": null,
   "metadata": {
    "id": "cRh85SegariP"
   },
   "outputs": [],
   "source": [
    "result.to_csv('out.csv',index = False)"
   ]
  },
  {
   "cell_type": "code",
   "execution_count": null,
   "metadata": {
    "id": "AtbDchlXariP"
   },
   "outputs": [],
   "source": [
    "dff = pd.read_csv('out.csv')"
   ]
  },
  {
   "cell_type": "code",
   "execution_count": null,
   "metadata": {
    "colab": {
     "base_uri": "https://localhost:8080/",
     "height": 195
    },
    "executionInfo": {
     "elapsed": 2106,
     "status": "ok",
     "timestamp": 1612877510322,
     "user": {
      "displayName": "Akshay Kumar",
      "photoUrl": "https://lh3.googleusercontent.com/a-/AOh14Gjh2A-fwHDdUGkRUNEORkNYYCWKa-6rFJz8LrmbGQ=s64",
      "userId": "16196635865337803652"
     },
     "user_tz": -330
    },
    "id": "nTXK8UL5ariP",
    "outputId": "3bff4e4e-b937-4273-a7d4-544f5e3fd5c0"
   },
   "outputs": [
    {
     "data": {
      "text/html": [
       "<div>\n",
       "<style scoped>\n",
       "    .dataframe tbody tr th:only-of-type {\n",
       "        vertical-align: middle;\n",
       "    }\n",
       "\n",
       "    .dataframe tbody tr th {\n",
       "        vertical-align: top;\n",
       "    }\n",
       "\n",
       "    .dataframe thead th {\n",
       "        text-align: right;\n",
       "    }\n",
       "</style>\n",
       "<table border=\"1\" class=\"dataframe\">\n",
       "  <thead>\n",
       "    <tr style=\"text-align: right;\">\n",
       "      <th></th>\n",
       "      <th>Image</th>\n",
       "      <th>Class</th>\n",
       "    </tr>\n",
       "  </thead>\n",
       "  <tbody>\n",
       "    <tr>\n",
       "      <th>0</th>\n",
       "      <td>image8132.jpg</td>\n",
       "      <td>Jacket</td>\n",
       "    </tr>\n",
       "    <tr>\n",
       "      <th>1</th>\n",
       "      <td>image1490.jpg</td>\n",
       "      <td>Miscellaneous</td>\n",
       "    </tr>\n",
       "    <tr>\n",
       "      <th>2</th>\n",
       "      <td>image3111.jpg</td>\n",
       "      <td>Jacket</td>\n",
       "    </tr>\n",
       "    <tr>\n",
       "      <th>3</th>\n",
       "      <td>image664.jpg</td>\n",
       "      <td>Christmas_Tree</td>\n",
       "    </tr>\n",
       "    <tr>\n",
       "      <th>4</th>\n",
       "      <td>image5802.jpg</td>\n",
       "      <td>Miscellaneous</td>\n",
       "    </tr>\n",
       "  </tbody>\n",
       "</table>\n",
       "</div>"
      ],
      "text/plain": [
       "           Image           Class\n",
       "0  image8132.jpg          Jacket\n",
       "1  image1490.jpg   Miscellaneous\n",
       "2  image3111.jpg          Jacket\n",
       "3   image664.jpg  Christmas_Tree\n",
       "4  image5802.jpg   Miscellaneous"
      ]
     },
     "execution_count": 155,
     "metadata": {
      "tags": []
     },
     "output_type": "execute_result"
    }
   ],
   "source": [
    "dff.head()"
   ]
  },
  {
   "cell_type": "code",
   "execution_count": null,
   "metadata": {
    "id": "8BORGOI2gvlh"
   },
   "outputs": [],
   "source": []
  }
 ],
 "metadata": {
  "accelerator": "GPU",
  "colab": {
   "collapsed_sections": [],
   "name": "EfficientNet.ipynb",
   "version": ""
  },
  "kernelspec": {
   "display_name": "Python 3",
   "language": "python",
   "name": "python3"
  },
  "language_info": {
   "codemirror_mode": {
    "name": "ipython",
    "version": 3
   },
   "file_extension": ".py",
   "mimetype": "text/x-python",
   "name": "python",
   "nbconvert_exporter": "python",
   "pygments_lexer": "ipython3",
   "version": "3.8.5"
  }
 },
 "nbformat": 4,
 "nbformat_minor": 1
}
